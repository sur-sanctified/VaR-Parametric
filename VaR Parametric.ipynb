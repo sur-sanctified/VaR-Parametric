{
 "cells": [
  {
   "cell_type": "code",
   "execution_count": 2,
   "metadata": {},
   "outputs": [
    {
     "name": "stdout",
     "output_type": "stream",
     "text": [
      "Requirement already satisfied: yfinance in c:\\users\\sur\\anaconda3\\lib\\site-packages (0.1.70)Note: you may need to restart the kernel to use updated packages.\n",
      "Requirement already satisfied: pandas>=0.24.0 in c:\\users\\sur\\anaconda3\\lib\\site-packages (from yfinance) (1.0.5)\n",
      "Requirement already satisfied: requests>=2.26 in c:\\users\\sur\\anaconda3\\lib\\site-packages (from yfinance) (2.27.1)\n",
      "Requirement already satisfied: numpy>=1.15 in c:\\users\\sur\\anaconda3\\lib\\site-packages (from yfinance) (1.18.5)\n",
      "Requirement already satisfied: lxml>=4.5.1 in c:\\users\\sur\\anaconda3\\lib\\site-packages (from yfinance) (4.5.2)\n",
      "Requirement already satisfied: multitasking>=0.0.7 in c:\\users\\sur\\anaconda3\\lib\\site-packages (from yfinance) (0.0.10)\n",
      "Requirement already satisfied: python-dateutil>=2.6.1 in c:\\users\\sur\\anaconda3\\lib\\site-packages (from pandas>=0.24.0->yfinance) (2.8.1)\n",
      "Requirement already satisfied: pytz>=2017.2 in c:\\users\\sur\\anaconda3\\lib\\site-packages (from pandas>=0.24.0->yfinance) (2020.1)\n",
      "Requirement already satisfied: charset-normalizer~=2.0.0; python_version >= \"3\" in c:\\users\\sur\\anaconda3\\lib\\site-packages (from requests>=2.26->yfinance) (2.0.12)\n",
      "Requirement already satisfied: certifi>=2017.4.17 in c:\\users\\sur\\anaconda3\\lib\\site-packages (from requests>=2.26->yfinance) (2020.6.20)\n",
      "Requirement already satisfied: idna<4,>=2.5; python_version >= \"3\" in c:\\users\\sur\\anaconda3\\lib\\site-packages (from requests>=2.26->yfinance) (2.10)\n",
      "Requirement already satisfied: urllib3<1.27,>=1.21.1 in c:\\users\\sur\\anaconda3\\lib\\site-packages (from requests>=2.26->yfinance) (1.25.9)\n",
      "Requirement already satisfied: six>=1.5 in c:\\users\\sur\\anaconda3\\lib\\site-packages (from python-dateutil>=2.6.1->pandas>=0.24.0->yfinance) (1.15.0)\n",
      "\n"
     ]
    }
   ],
   "source": [
    "pip install yfinance"
   ]
  },
  {
   "cell_type": "code",
   "execution_count": 7,
   "metadata": {},
   "outputs": [],
   "source": [
    "import yfinance as yf, numpy as np,datetime as dt,matplotlib.pyplot as plt\n",
    "from scipy.stats import norm"
   ]
  },
  {
   "cell_type": "code",
   "execution_count": 14,
   "metadata": {},
   "outputs": [],
   "source": [
    "tickers=['INFY','TCS','HDFCBANK.NS','COALINDIA.NS','RELIANCE.NS','SUNPHARMA.NS']\n",
    "weights=np.array([0.1,0.1,0.1,0.1,0.1,0.1])"
   ]
  },
  {
   "cell_type": "code",
   "execution_count": 15,
   "metadata": {},
   "outputs": [
    {
     "name": "stdout",
     "output_type": "stream",
     "text": [
      "[*********************100%***********************]  6 of 6 completed\n"
     ]
    },
    {
     "data": {
      "text/html": [
       "<div>\n",
       "<style scoped>\n",
       "    .dataframe tbody tr th:only-of-type {\n",
       "        vertical-align: middle;\n",
       "    }\n",
       "\n",
       "    .dataframe tbody tr th {\n",
       "        vertical-align: top;\n",
       "    }\n",
       "\n",
       "    .dataframe thead th {\n",
       "        text-align: right;\n",
       "    }\n",
       "</style>\n",
       "<table border=\"1\" class=\"dataframe\">\n",
       "  <thead>\n",
       "    <tr style=\"text-align: right;\">\n",
       "      <th></th>\n",
       "      <th>COALINDIA.NS</th>\n",
       "      <th>HDFCBANK.NS</th>\n",
       "      <th>INFY</th>\n",
       "      <th>RELIANCE.NS</th>\n",
       "      <th>SUNPHARMA.NS</th>\n",
       "      <th>TCS</th>\n",
       "    </tr>\n",
       "    <tr>\n",
       "      <th>Date</th>\n",
       "      <th></th>\n",
       "      <th></th>\n",
       "      <th></th>\n",
       "      <th></th>\n",
       "      <th></th>\n",
       "      <th></th>\n",
       "    </tr>\n",
       "  </thead>\n",
       "  <tbody>\n",
       "    <tr>\n",
       "      <th>2018-12-31</th>\n",
       "      <td>NaN</td>\n",
       "      <td>NaN</td>\n",
       "      <td>8.830184</td>\n",
       "      <td>NaN</td>\n",
       "      <td>NaN</td>\n",
       "      <td>4.458913</td>\n",
       "    </tr>\n",
       "    <tr>\n",
       "      <th>2019-01-01</th>\n",
       "      <td>175.664490</td>\n",
       "      <td>1060.455688</td>\n",
       "      <td>NaN</td>\n",
       "      <td>1096.698975</td>\n",
       "      <td>418.735474</td>\n",
       "      <td>NaN</td>\n",
       "    </tr>\n",
       "    <tr>\n",
       "      <th>2019-01-02</th>\n",
       "      <td>172.173004</td>\n",
       "      <td>1050.779663</td>\n",
       "      <td>8.913662</td>\n",
       "      <td>1082.415405</td>\n",
       "      <td>425.013397</td>\n",
       "      <td>4.627174</td>\n",
       "    </tr>\n",
       "    <tr>\n",
       "      <th>2019-01-03</th>\n",
       "      <td>170.936462</td>\n",
       "      <td>1042.535400</td>\n",
       "      <td>8.783807</td>\n",
       "      <td>1069.061401</td>\n",
       "      <td>421.198364</td>\n",
       "      <td>4.608478</td>\n",
       "    </tr>\n",
       "    <tr>\n",
       "      <th>2019-01-04</th>\n",
       "      <td>172.027527</td>\n",
       "      <td>1045.324707</td>\n",
       "      <td>8.932215</td>\n",
       "      <td>1074.833496</td>\n",
       "      <td>418.976929</td>\n",
       "      <td>4.786087</td>\n",
       "    </tr>\n",
       "    <tr>\n",
       "      <th>...</th>\n",
       "      <td>...</td>\n",
       "      <td>...</td>\n",
       "      <td>...</td>\n",
       "      <td>...</td>\n",
       "      <td>...</td>\n",
       "      <td>...</td>\n",
       "    </tr>\n",
       "    <tr>\n",
       "      <th>2022-03-30</th>\n",
       "      <td>182.899994</td>\n",
       "      <td>1476.949951</td>\n",
       "      <td>24.969999</td>\n",
       "      <td>2672.949951</td>\n",
       "      <td>920.599976</td>\n",
       "      <td>8.180000</td>\n",
       "    </tr>\n",
       "    <tr>\n",
       "      <th>2022-03-31</th>\n",
       "      <td>183.050003</td>\n",
       "      <td>1470.349976</td>\n",
       "      <td>24.889999</td>\n",
       "      <td>2634.750000</td>\n",
       "      <td>914.750000</td>\n",
       "      <td>8.170000</td>\n",
       "    </tr>\n",
       "    <tr>\n",
       "      <th>2022-04-01</th>\n",
       "      <td>186.149994</td>\n",
       "      <td>1506.000000</td>\n",
       "      <td>24.610001</td>\n",
       "      <td>2655.850098</td>\n",
       "      <td>908.700012</td>\n",
       "      <td>8.120000</td>\n",
       "    </tr>\n",
       "    <tr>\n",
       "      <th>2022-04-04</th>\n",
       "      <td>187.750000</td>\n",
       "      <td>1656.800049</td>\n",
       "      <td>24.740000</td>\n",
       "      <td>2663.699951</td>\n",
       "      <td>926.049988</td>\n",
       "      <td>8.310000</td>\n",
       "    </tr>\n",
       "    <tr>\n",
       "      <th>2022-04-05</th>\n",
       "      <td>187.300003</td>\n",
       "      <td>1619.349976</td>\n",
       "      <td>NaN</td>\n",
       "      <td>2635.000000</td>\n",
       "      <td>930.950012</td>\n",
       "      <td>NaN</td>\n",
       "    </tr>\n",
       "  </tbody>\n",
       "</table>\n",
       "<p>847 rows × 6 columns</p>\n",
       "</div>"
      ],
      "text/plain": [
       "            COALINDIA.NS  HDFCBANK.NS       INFY  RELIANCE.NS  SUNPHARMA.NS  \\\n",
       "Date                                                                          \n",
       "2018-12-31           NaN          NaN   8.830184          NaN           NaN   \n",
       "2019-01-01    175.664490  1060.455688        NaN  1096.698975    418.735474   \n",
       "2019-01-02    172.173004  1050.779663   8.913662  1082.415405    425.013397   \n",
       "2019-01-03    170.936462  1042.535400   8.783807  1069.061401    421.198364   \n",
       "2019-01-04    172.027527  1045.324707   8.932215  1074.833496    418.976929   \n",
       "...                  ...          ...        ...          ...           ...   \n",
       "2022-03-30    182.899994  1476.949951  24.969999  2672.949951    920.599976   \n",
       "2022-03-31    183.050003  1470.349976  24.889999  2634.750000    914.750000   \n",
       "2022-04-01    186.149994  1506.000000  24.610001  2655.850098    908.700012   \n",
       "2022-04-04    187.750000  1656.800049  24.740000  2663.699951    926.049988   \n",
       "2022-04-05    187.300003  1619.349976        NaN  2635.000000    930.950012   \n",
       "\n",
       "                 TCS  \n",
       "Date                  \n",
       "2018-12-31  4.458913  \n",
       "2019-01-01       NaN  \n",
       "2019-01-02  4.627174  \n",
       "2019-01-03  4.608478  \n",
       "2019-01-04  4.786087  \n",
       "...              ...  \n",
       "2022-03-30  8.180000  \n",
       "2022-03-31  8.170000  \n",
       "2022-04-01  8.120000  \n",
       "2022-04-04  8.310000  \n",
       "2022-04-05       NaN  \n",
       "\n",
       "[847 rows x 6 columns]"
      ]
     },
     "execution_count": 15,
     "metadata": {},
     "output_type": "execute_result"
    }
   ],
   "source": [
    "start=dt.datetime(2019,1,1)\n",
    "end=dt.datetime.now()\n",
    "\n",
    "df=yf.download(tickers,start,end)['Adj Close']\n",
    "df"
   ]
  },
  {
   "cell_type": "code",
   "execution_count": 17,
   "metadata": {},
   "outputs": [
    {
     "data": {
      "text/html": [
       "<div>\n",
       "<style scoped>\n",
       "    .dataframe tbody tr th:only-of-type {\n",
       "        vertical-align: middle;\n",
       "    }\n",
       "\n",
       "    .dataframe tbody tr th {\n",
       "        vertical-align: top;\n",
       "    }\n",
       "\n",
       "    .dataframe thead th {\n",
       "        text-align: right;\n",
       "    }\n",
       "</style>\n",
       "<table border=\"1\" class=\"dataframe\">\n",
       "  <thead>\n",
       "    <tr style=\"text-align: right;\">\n",
       "      <th></th>\n",
       "      <th>COALINDIA.NS</th>\n",
       "      <th>HDFCBANK.NS</th>\n",
       "      <th>INFY</th>\n",
       "      <th>RELIANCE.NS</th>\n",
       "      <th>SUNPHARMA.NS</th>\n",
       "      <th>TCS</th>\n",
       "    </tr>\n",
       "    <tr>\n",
       "      <th>Date</th>\n",
       "      <th></th>\n",
       "      <th></th>\n",
       "      <th></th>\n",
       "      <th></th>\n",
       "      <th></th>\n",
       "      <th></th>\n",
       "    </tr>\n",
       "  </thead>\n",
       "  <tbody>\n",
       "    <tr>\n",
       "      <th>2018-12-31</th>\n",
       "      <td>NaN</td>\n",
       "      <td>NaN</td>\n",
       "      <td>NaN</td>\n",
       "      <td>NaN</td>\n",
       "      <td>NaN</td>\n",
       "      <td>NaN</td>\n",
       "    </tr>\n",
       "    <tr>\n",
       "      <th>2019-01-01</th>\n",
       "      <td>NaN</td>\n",
       "      <td>NaN</td>\n",
       "      <td>0.000000</td>\n",
       "      <td>NaN</td>\n",
       "      <td>NaN</td>\n",
       "      <td>0.000000</td>\n",
       "    </tr>\n",
       "    <tr>\n",
       "      <th>2019-01-02</th>\n",
       "      <td>-0.019876</td>\n",
       "      <td>-0.009124</td>\n",
       "      <td>0.009454</td>\n",
       "      <td>-0.013024</td>\n",
       "      <td>0.014993</td>\n",
       "      <td>0.037736</td>\n",
       "    </tr>\n",
       "    <tr>\n",
       "      <th>2019-01-03</th>\n",
       "      <td>-0.007182</td>\n",
       "      <td>-0.007846</td>\n",
       "      <td>-0.014568</td>\n",
       "      <td>-0.012337</td>\n",
       "      <td>-0.008976</td>\n",
       "      <td>-0.004040</td>\n",
       "    </tr>\n",
       "    <tr>\n",
       "      <th>2019-01-04</th>\n",
       "      <td>0.006383</td>\n",
       "      <td>0.002676</td>\n",
       "      <td>0.016896</td>\n",
       "      <td>0.005399</td>\n",
       "      <td>-0.005274</td>\n",
       "      <td>0.038540</td>\n",
       "    </tr>\n",
       "    <tr>\n",
       "      <th>...</th>\n",
       "      <td>...</td>\n",
       "      <td>...</td>\n",
       "      <td>...</td>\n",
       "      <td>...</td>\n",
       "      <td>...</td>\n",
       "      <td>...</td>\n",
       "    </tr>\n",
       "    <tr>\n",
       "      <th>2022-03-30</th>\n",
       "      <td>-0.016667</td>\n",
       "      <td>0.017323</td>\n",
       "      <td>-0.005576</td>\n",
       "      <td>0.019218</td>\n",
       "      <td>0.001360</td>\n",
       "      <td>-0.056517</td>\n",
       "    </tr>\n",
       "    <tr>\n",
       "      <th>2022-03-31</th>\n",
       "      <td>0.000820</td>\n",
       "      <td>-0.004469</td>\n",
       "      <td>-0.003204</td>\n",
       "      <td>-0.014291</td>\n",
       "      <td>-0.006355</td>\n",
       "      <td>-0.001223</td>\n",
       "    </tr>\n",
       "    <tr>\n",
       "      <th>2022-04-01</th>\n",
       "      <td>0.016935</td>\n",
       "      <td>0.024246</td>\n",
       "      <td>-0.011249</td>\n",
       "      <td>0.008008</td>\n",
       "      <td>-0.006614</td>\n",
       "      <td>-0.006120</td>\n",
       "    </tr>\n",
       "    <tr>\n",
       "      <th>2022-04-04</th>\n",
       "      <td>0.008595</td>\n",
       "      <td>0.100133</td>\n",
       "      <td>0.005282</td>\n",
       "      <td>0.002956</td>\n",
       "      <td>0.019093</td>\n",
       "      <td>0.023399</td>\n",
       "    </tr>\n",
       "    <tr>\n",
       "      <th>2022-04-05</th>\n",
       "      <td>-0.002397</td>\n",
       "      <td>-0.022604</td>\n",
       "      <td>0.000000</td>\n",
       "      <td>-0.010774</td>\n",
       "      <td>0.005291</td>\n",
       "      <td>0.000000</td>\n",
       "    </tr>\n",
       "  </tbody>\n",
       "</table>\n",
       "<p>847 rows × 6 columns</p>\n",
       "</div>"
      ],
      "text/plain": [
       "            COALINDIA.NS  HDFCBANK.NS      INFY  RELIANCE.NS  SUNPHARMA.NS  \\\n",
       "Date                                                                         \n",
       "2018-12-31           NaN          NaN       NaN          NaN           NaN   \n",
       "2019-01-01           NaN          NaN  0.000000          NaN           NaN   \n",
       "2019-01-02     -0.019876    -0.009124  0.009454    -0.013024      0.014993   \n",
       "2019-01-03     -0.007182    -0.007846 -0.014568    -0.012337     -0.008976   \n",
       "2019-01-04      0.006383     0.002676  0.016896     0.005399     -0.005274   \n",
       "...                  ...          ...       ...          ...           ...   \n",
       "2022-03-30     -0.016667     0.017323 -0.005576     0.019218      0.001360   \n",
       "2022-03-31      0.000820    -0.004469 -0.003204    -0.014291     -0.006355   \n",
       "2022-04-01      0.016935     0.024246 -0.011249     0.008008     -0.006614   \n",
       "2022-04-04      0.008595     0.100133  0.005282     0.002956      0.019093   \n",
       "2022-04-05     -0.002397    -0.022604  0.000000    -0.010774      0.005291   \n",
       "\n",
       "                 TCS  \n",
       "Date                  \n",
       "2018-12-31       NaN  \n",
       "2019-01-01  0.000000  \n",
       "2019-01-02  0.037736  \n",
       "2019-01-03 -0.004040  \n",
       "2019-01-04  0.038540  \n",
       "...              ...  \n",
       "2022-03-30 -0.056517  \n",
       "2022-03-31 -0.001223  \n",
       "2022-04-01 -0.006120  \n",
       "2022-04-04  0.023399  \n",
       "2022-04-05  0.000000  \n",
       "\n",
       "[847 rows x 6 columns]"
      ]
     },
     "execution_count": 17,
     "metadata": {},
     "output_type": "execute_result"
    }
   ],
   "source": [
    "returns=df.pct_change()\n",
    "returns"
   ]
  },
  {
   "cell_type": "code",
   "execution_count": 18,
   "metadata": {},
   "outputs": [
    {
     "data": {
      "text/html": [
       "<div>\n",
       "<style scoped>\n",
       "    .dataframe tbody tr th:only-of-type {\n",
       "        vertical-align: middle;\n",
       "    }\n",
       "\n",
       "    .dataframe tbody tr th {\n",
       "        vertical-align: top;\n",
       "    }\n",
       "\n",
       "    .dataframe thead th {\n",
       "        text-align: right;\n",
       "    }\n",
       "</style>\n",
       "<table border=\"1\" class=\"dataframe\">\n",
       "  <thead>\n",
       "    <tr style=\"text-align: right;\">\n",
       "      <th></th>\n",
       "      <th>COALINDIA.NS</th>\n",
       "      <th>HDFCBANK.NS</th>\n",
       "      <th>INFY</th>\n",
       "      <th>RELIANCE.NS</th>\n",
       "      <th>SUNPHARMA.NS</th>\n",
       "      <th>TCS</th>\n",
       "    </tr>\n",
       "  </thead>\n",
       "  <tbody>\n",
       "    <tr>\n",
       "      <th>COALINDIA.NS</th>\n",
       "      <td>0.000441</td>\n",
       "      <td>0.000094</td>\n",
       "      <td>0.000055</td>\n",
       "      <td>0.000133</td>\n",
       "      <td>0.000111</td>\n",
       "      <td>0.000014</td>\n",
       "    </tr>\n",
       "    <tr>\n",
       "      <th>HDFCBANK.NS</th>\n",
       "      <td>0.000094</td>\n",
       "      <td>0.000346</td>\n",
       "      <td>0.000084</td>\n",
       "      <td>0.000175</td>\n",
       "      <td>0.000091</td>\n",
       "      <td>0.000143</td>\n",
       "    </tr>\n",
       "    <tr>\n",
       "      <th>INFY</th>\n",
       "      <td>0.000055</td>\n",
       "      <td>0.000084</td>\n",
       "      <td>0.000402</td>\n",
       "      <td>0.000092</td>\n",
       "      <td>0.000080</td>\n",
       "      <td>0.000249</td>\n",
       "    </tr>\n",
       "    <tr>\n",
       "      <th>RELIANCE.NS</th>\n",
       "      <td>0.000133</td>\n",
       "      <td>0.000175</td>\n",
       "      <td>0.000092</td>\n",
       "      <td>0.000443</td>\n",
       "      <td>0.000129</td>\n",
       "      <td>0.000074</td>\n",
       "    </tr>\n",
       "    <tr>\n",
       "      <th>SUNPHARMA.NS</th>\n",
       "      <td>0.000111</td>\n",
       "      <td>0.000091</td>\n",
       "      <td>0.000080</td>\n",
       "      <td>0.000129</td>\n",
       "      <td>0.000390</td>\n",
       "      <td>0.000066</td>\n",
       "    </tr>\n",
       "    <tr>\n",
       "      <th>TCS</th>\n",
       "      <td>0.000014</td>\n",
       "      <td>0.000143</td>\n",
       "      <td>0.000249</td>\n",
       "      <td>0.000074</td>\n",
       "      <td>0.000066</td>\n",
       "      <td>0.002336</td>\n",
       "    </tr>\n",
       "  </tbody>\n",
       "</table>\n",
       "</div>"
      ],
      "text/plain": [
       "              COALINDIA.NS  HDFCBANK.NS      INFY  RELIANCE.NS  SUNPHARMA.NS  \\\n",
       "COALINDIA.NS      0.000441     0.000094  0.000055     0.000133      0.000111   \n",
       "HDFCBANK.NS       0.000094     0.000346  0.000084     0.000175      0.000091   \n",
       "INFY              0.000055     0.000084  0.000402     0.000092      0.000080   \n",
       "RELIANCE.NS       0.000133     0.000175  0.000092     0.000443      0.000129   \n",
       "SUNPHARMA.NS      0.000111     0.000091  0.000080     0.000129      0.000390   \n",
       "TCS               0.000014     0.000143  0.000249     0.000074      0.000066   \n",
       "\n",
       "                   TCS  \n",
       "COALINDIA.NS  0.000014  \n",
       "HDFCBANK.NS   0.000143  \n",
       "INFY          0.000249  \n",
       "RELIANCE.NS   0.000074  \n",
       "SUNPHARMA.NS  0.000066  \n",
       "TCS           0.002336  "
      ]
     },
     "execution_count": 18,
     "metadata": {},
     "output_type": "execute_result"
    }
   ],
   "source": [
    "cov_matrix=returns.cov()\n",
    "cov_matrix"
   ]
  },
  {
   "cell_type": "code",
   "execution_count": 19,
   "metadata": {},
   "outputs": [
    {
     "data": {
      "text/plain": [
       "COALINDIA.NS    0.000295\n",
       "HDFCBANK.NS     0.000674\n",
       "INFY            0.001420\n",
       "RELIANCE.NS     0.001258\n",
       "SUNPHARMA.NS    0.001140\n",
       "TCS             0.001910\n",
       "dtype: float64"
      ]
     },
     "execution_count": 19,
     "metadata": {},
     "output_type": "execute_result"
    }
   ],
   "source": [
    "avg_returns=returns.mean()\n",
    "avg_returns"
   ]
  },
  {
   "cell_type": "code",
   "execution_count": 20,
   "metadata": {},
   "outputs": [
    {
     "data": {
      "text/plain": [
       "845"
      ]
     },
     "execution_count": 20,
     "metadata": {},
     "output_type": "execute_result"
    }
   ],
   "source": [
    "count=returns.count()[0]\n",
    "count"
   ]
  },
  {
   "cell_type": "code",
   "execution_count": 21,
   "metadata": {},
   "outputs": [],
   "source": [
    "port_mean=avg_returns@weights\n",
    "port_std=np.sqrt(weights.T@cov_matrix@weights)"
   ]
  },
  {
   "cell_type": "code",
   "execution_count": 22,
   "metadata": {},
   "outputs": [
    {
     "data": {
      "text/plain": [
       "0.0006696494316471527"
      ]
     },
     "execution_count": 22,
     "metadata": {},
     "output_type": "execute_result"
    }
   ],
   "source": [
    "port_mean"
   ]
  },
  {
   "cell_type": "code",
   "execution_count": 23,
   "metadata": {},
   "outputs": [
    {
     "data": {
      "text/plain": [
       "0.008681590329280897"
      ]
     },
     "execution_count": 23,
     "metadata": {},
     "output_type": "execute_result"
    }
   ],
   "source": [
    "port_std"
   ]
  },
  {
   "cell_type": "code",
   "execution_count": 24,
   "metadata": {},
   "outputs": [
    {
     "data": {
      "image/png": "[encoded data removed]",
      "text/plain": [
       "<Figure size 432x288 with 1 Axes>"
      ]
     },
     "metadata": {
      "needs_background": "light"
     },
     "output_type": "display_data"
    }
   ],
   "source": [
    "x=np.arange(-0.05,0.055,0.001)\n",
    "norm_dist=norm.pdf(x,port_mean,port_std)\n",
    "\n",
    "plt.plot(x,norm_dist,color='r')\n",
    "plt.show()\n"
   ]
  },
  {
   "cell_type": "code",
   "execution_count": 25,
   "metadata": {},
   "outputs": [
    {
     "data": {
      "text/plain": [
       "-0.013610295909177362"
      ]
     },
     "execution_count": 25,
     "metadata": {},
     "output_type": "execute_result"
    }
   ],
   "source": [
    "confidence_level=0.05\n",
    "\n",
    "VaR=norm.ppf(confidence_level,port_mean,port_std)\n",
    "VaR"
   ]
  },
  {
   "cell_type": "code",
   "execution_count": 26,
   "metadata": {},
   "outputs": [
    {
     "data": {
      "text/plain": [
       "-0.030433546846807887"
      ]
     },
     "execution_count": 26,
     "metadata": {},
     "output_type": "execute_result"
    }
   ],
   "source": [
    "num_days=5\n",
    "\n",
    "VaR*np.sqrt(num_days)"
   ]
  },
  {
   "cell_type": "code",
   "execution_count": null,
   "metadata": {},
   "outputs": [],
   "source": []
  }
 ],
 "metadata": {
  "kernelspec": {
   "display_name": "Python 3",
   "language": "python",
   "name": "python3"
  },
  "language_info": {
   "codemirror_mode": {
    "name": "ipython",
    "version": 3
   },
   "file_extension": ".py",
   "mimetype": "text/x-python",
   "name": "python",
   "nbconvert_exporter": "python",
   "pygments_lexer": "ipython3",
   "version": "3.8.3"
  }
 },
 "nbformat": 4,
 "nbformat_minor": 4
}
